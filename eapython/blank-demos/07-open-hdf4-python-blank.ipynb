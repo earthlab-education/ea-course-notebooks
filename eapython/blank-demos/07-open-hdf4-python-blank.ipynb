{
 "cells": [
  {
   "cell_type": "markdown",
   "metadata": {
    "slideshow": {
     "slide_type": "slide"
    }
   },
   "source": [
    "# Open MODIS (hdf4)  Data in Python \n",
    "\n",
    "The **MOD**erate-resolution **I**maging **S**pectroradiometer is a sensor that \n",
    "produces multispectral data with 500m spatial resolution and 1-2 day temporal \n",
    "resolution. MODIS data is the basis for some common data products\n",
    "including:\n",
    "  * Burned Area\n",
    "  * Sea Surface Temperature\n",
    "  * Aerosol\n",
    "  * Snow\n",
    "  * Sea Ice\n",
    "  \n",
    "All of these products are available in the hdf4 format."
   ]
  },
  {
   "cell_type": "markdown",
   "metadata": {
    "slideshow": {
     "slide_type": "subslide"
    }
   },
   "source": [
    "  \n",
    "## Learning objectives\n",
    "  * Introduce hierarchical data formats\n",
    "  * Import hdf4 MODIS data using rioxarray\n",
    "  * Query hdf4 metadata to learn about its structure"
   ]
  },
  {
   "cell_type": "markdown",
   "metadata": {
    "slideshow": {
     "slide_type": "slide"
    }
   },
   "source": [
    "## Why use hierarchical data formats?\n",
    "\n",
    "Hierarchical data files are:\n",
    "  * **Self-Describing**\n",
    "  * **Store Heterogeneous Data**\n",
    "  * **Support Data Slicing**\n",
    "  * **An Open Format**\n",
    "  \n",
    "...and of course we want to use HDFs because many organizations recognize \n",
    "the advantages and have made useful data available in this format."
   ]
  },
  {
   "cell_type": "markdown",
   "metadata": {
    "slideshow": {
     "slide_type": "slide"
    }
   },
   "source": [
    "### Hierarchical data formats can contain multiple types of data in one file\n",
    "\n",
    "Think about the files and folders stored on your computer. You might have \n",
    "a data directory with some temperature data for multiple field sites. This \n",
    "temperature data is collected every minute and summarized on an hourly, \n",
    "daily and weekly basis.\n",
    "\n",
    "Within ONE HDF file, you can store a similar set of data organized in the same \n",
    "way that you might organize files and folders on your computer.\n",
    "\n",
    "![Hierarchical file structure can contain many types of data in one file](https://www.earthdatascience.org/images/earth-analytics/hierarchical-data-formats/hdf5-example-data-structure-with-metadata.jpg)"
   ]
  },
  {
   "cell_type": "markdown",
   "metadata": {
    "slideshow": {
     "slide_type": "slide"
    }
   },
   "source": [
    "### hdf4 files can be opened in Python using rioxarray\n",
    "\n",
    "Similar to opening **.tif** files using rasterio, \n",
    "you will use a context manager to open hdf4 files. Because the data are \n",
    "hierarchical, you will have to loop through the main dataset and the \n",
    "subdatasets nested within the main dataset to access the reflectance \n",
    "data (the bands) and the qa layers. "
   ]
  },
  {
   "cell_type": "code",
   "execution_count": null,
   "metadata": {
    "slideshow": {
     "slide_type": "slide"
    }
   },
   "outputs": [],
   "source": [
    "import os\n",
    "\n",
    "import earthpy as et\n",
    "import earthpy.plot as ep\n",
    "import matplotlib.pyplot as plt\n",
    "import geopandas as gpd\n",
    "import numpy.ma as ma\n",
    "from rasterio._base import get_dataset_driver\n",
    "from rasterio.plot import plotting_extent\n",
    "import rioxarray as rxr\n",
    "from shapely.geometry import box\n",
    "\n",
    "# Get the MODIS data\n",
    "et.data.get_data('cold-springs-modis-h4')\n",
    "# Get the fire boundary\n",
    "et.data.get_data('cold-springs-fire')\n",
    "os.chdir(os.path.join(et.io.HOME, 'earth-analytics', 'data'))\n",
    "\n",
    "# This will make rioxarray run faster\n",
    "rioxarray_option = rxr.set_options(export_grid_mapping=False)"
   ]
  },
  {
   "cell_type": "code",
   "execution_count": null,
   "metadata": {
    "slideshow": {
     "slide_type": "subslide"
    }
   },
   "outputs": [],
   "source": [
    "# Create a path to the pre-fire MODIS h4 data\n",
    "modis_pre_path = os.path.join(\"cold-springs-modis-h4\",\n",
    "                              \"07_july_2016\",\n",
    "                              \"MOD09GA.A2016189.h09v05.006.2016191073856.hdf\")\n",
    "modis_pre_path"
   ]
  },
  {
   "cell_type": "code",
   "execution_count": null,
   "metadata": {
    "slideshow": {
     "slide_type": "slide"
    }
   },
   "outputs": [],
   "source": [
    "# This returns a list of two objects\n",
    "modis = rxr.open_rasterio(modis_pre_path,\n",
    "                          masked=True)\n",
    "\n",
    "\n",
    "modis"
   ]
  },
  {
   "cell_type": "markdown",
   "metadata": {
    "slideshow": {
     "slide_type": "slide"
    }
   },
   "source": [
    "By adding two output variables, open_rasterio will save\n",
    "the reflectance / band data in a separate object from\n",
    "the qa (quality assurance) data."
   ]
  },
  {
   "cell_type": "code",
   "execution_count": null,
   "metadata": {
    "slideshow": {
     "slide_type": "subslide"
    }
   },
   "outputs": [],
   "source": [
    "# By adding two output variables,\n",
    "modis_qa, modis_data = rxr.open_rasterio(modis_pre_path,\n",
    "                                         masked=True)"
   ]
  },
  {
   "cell_type": "markdown",
   "metadata": {
    "slideshow": {
     "slide_type": "subslide"
    }
   },
   "source": [
    "The fist object returned contains all of the qa (quality assurance) \n",
    "and metadata layers.\n"
   ]
  },
  {
   "cell_type": "code",
   "execution_count": null,
   "metadata": {
    "slideshow": {
     "slide_type": "subslide"
    }
   },
   "outputs": [],
   "source": [
    "# The first object is a qa object\n",
    "modis_qa"
   ]
  },
  {
   "cell_type": "code",
   "execution_count": null,
   "metadata": {
    "slideshow": {
     "slide_type": "subslide"
    }
   },
   "outputs": [],
   "source": [
    "# The second contains your spectral data - ie the \"bands\"\n",
    "modis_data"
   ]
  },
  {
   "cell_type": "markdown",
   "metadata": {
    "slideshow": {
     "slide_type": "slide"
    }
   },
   "source": [
    "### Hierarchical data formats are self-describing"
   ]
  },
  {
   "cell_type": "markdown",
   "metadata": {
    "slideshow": {
     "slide_type": "slide"
    }
   },
   "source": [
    "#### You can view metadata before opening the file in Python\n",
    "The command below runs `gdalinfo` which allows you to view the metadata.\n",
    "Calling a command using  `!` in  notebooks runs a bash command!\n",
    "\n",
    "NOTE - this will ONLY work if `gdal` is installed and  \n",
    "recognized properly on your computer."
   ]
  },
  {
   "cell_type": "code",
   "execution_count": null,
   "metadata": {
    "slideshow": {
     "slide_type": "subslide"
    }
   },
   "outputs": [],
   "source": [
    "# View file metadata using bash\n",
    "!gdalinfo cold-springs-modis-h4/07_july_2016/MOD09GA.A2016189.h09v05.006.2016191073856.hdf"
   ]
  },
  {
   "cell_type": "markdown",
   "metadata": {
    "slideshow": {
     "slide_type": "slide"
    }
   },
   "source": [
    "#### View metadata in Python"
   ]
  },
  {
   "cell_type": "code",
   "execution_count": null,
   "metadata": {
    "slideshow": {
     "slide_type": "subslide"
    }
   },
   "outputs": [],
   "source": [
    "modis_data.attrs"
   ]
  },
  {
   "cell_type": "code",
   "execution_count": null,
   "metadata": {
    "slideshow": {
     "slide_type": "subslide"
    }
   },
   "outputs": [],
   "source": [
    "modis_data.attrs['LONGNAME']"
   ]
  },
  {
   "cell_type": "markdown",
   "metadata": {
    "slideshow": {
     "slide_type": "slide"
    }
   },
   "source": [
    "#### View CRS and Resolution"
   ]
  },
  {
   "cell_type": "code",
   "execution_count": null,
   "metadata": {
    "slideshow": {
     "slide_type": "subslide"
    }
   },
   "outputs": [],
   "source": [
    "# View entire metadata object for a MODIS band\n",
    "modis_data.rio.crs"
   ]
  },
  {
   "cell_type": "code",
   "execution_count": null,
   "metadata": {
    "slideshow": {
     "slide_type": "subslide"
    }
   },
   "outputs": [],
   "source": [
    "# View data resolution\n",
    "modis_data.rio.resolution()"
   ]
  },
  {
   "cell_type": "markdown",
   "metadata": {
    "slideshow": {
     "slide_type": "slide"
    }
   },
   "source": [
    "#### View variable names\n",
    "The variables with this pattern in the name:\n",
    "\n",
    "`sur_refl_b01_1`  \n",
    "\n",
    "are the bands which contain surface reflectance data. \n",
    "\n",
    "* **sur_refl_b01_1:** MODIS Band One\n",
    "* **sur_refl_b02_1:** MODIS Band Two"
   ]
  },
  {
   "cell_type": "code",
   "execution_count": null,
   "metadata": {
    "slideshow": {
     "slide_type": "subslide"
    }
   },
   "outputs": [],
   "source": [
    "#  View variables in object\n",
    "modis_data.rio.vars"
   ]
  },
  {
   "cell_type": "markdown",
   "metadata": {
    "slideshow": {
     "slide_type": "slide"
    }
   },
   "source": [
    "##  Use Variables and Groups to Open Subsets of Your Data\n",
    "\n",
    "To access the spatial information stored within your H4 file, you will need \n",
    "to loop through the subdatasets. Below you open a connection to the main h4 file, \n",
    "then you loop through each subdataset in the file. \n",
    "\n",
    "Below you loop through and print the name of each subdataset in the file.\n",
    "Notice that there are some other layers in the file as well including the \n",
    "`state_1km` layer which contains the QA (cloud and quality assurance) information."
   ]
  },
  {
   "cell_type": "markdown",
   "metadata": {
    "slideshow": {
     "slide_type": "slide"
    }
   },
   "source": [
    "### Use  the  Group  Parameter  to Grab One Of the Sub Groups\n",
    "\n",
    "You can use groups to  grab an entire subgroup rather than just \n",
    "specific layers or variables.\n",
    "Select the \"MODIS_Grid_500m_2D\" group to get all the reflectance bands:"
   ]
  },
  {
   "cell_type": "code",
   "execution_count": null,
   "metadata": {
    "slideshow": {
     "slide_type": "subslide"
    }
   },
   "outputs": [],
   "source": [
    "# Notice that here, you get a single xarray object with just the bands that\n",
    "# you want to work with\n",
    "(rxr.open_rasterio(\n",
    "        modis_pre_path,\n",
    "        masked=True,\n",
    "        )\n",
    "    .squeeze())"
   ]
  },
  {
   "cell_type": "markdown",
   "metadata": {
    "slideshow": {
     "slide_type": "slide"
    }
   },
   "source": [
    "### Select By  Variables"
   ]
  },
  {
   "cell_type": "code",
   "execution_count": null,
   "metadata": {
    "slideshow": {
     "slide_type": "subslide"
    }
   },
   "outputs": [],
   "source": [
    "# Open just the bands that you want to process\n",
    "desired_bands = [\"sur_refl_b01_1\",\n",
    "                 \"sur_refl_b02_1\",\n",
    "                 \"sur_refl_b03_1\",\n",
    "                 \"sur_refl_b04_1\",\n",
    "                 \"sur_refl_b07_1\"]\n",
    "# Notice that here, you get a single xarray object with just the bands that\n",
    "# you want to work with\n",
    "modis_bands = (\n",
    "    rxr.open_rasterio(\n",
    "        modis_pre_path,\n",
    "        masked=True,\n",
    "        )\n",
    "    .squeeze())\n",
    "modis_bands"
   ]
  },
  {
   "cell_type": "markdown",
   "metadata": {
    "slideshow": {
     "slide_type": "slide"
    }
   },
   "source": [
    "##  Clip The Data\n",
    "\n",
    "There are several different ways to clip your data. While for this assignment,\n",
    "I suggest  that  you  use the same approach used in `open_clean_bands()` \n",
    "shown last week for class. If you are interested below there  is more  \n",
    "information about a few different approaches."
   ]
  },
  {
   "cell_type": "code",
   "execution_count": null,
   "metadata": {
    "slideshow": {
     "slide_type": "subslide"
    }
   },
   "outputs": [],
   "source": [
    "# Open the clip extent\n",
    "fire_boundary_path = os.path.join(\"cold-springs-fire\",\n",
    "                                  \"vector_layers\",\n",
    "                                  \"fire-boundary-geomac\",\n",
    "                                  \"co_cold_springs_20160711_2200_dd83.shp\")\n",
    "fire_boundary = gpd.read_file(fire_boundary_path)"
   ]
  },
  {
   "cell_type": "markdown",
   "metadata": {
    "slideshow": {
     "slide_type": "slide"
    }
   },
   "source": [
    "Note that the data are in different CRS:"
   ]
  },
  {
   "cell_type": "code",
   "execution_count": null,
   "metadata": {
    "slideshow": {
     "slide_type": "subslide"
    }
   },
   "outputs": [],
   "source": [
    "print(\"The fire boundary crs is\", fire_boundary.crs)\n",
    "print(\"The MODIS crs is\", modis_bands.rio.crs)"
   ]
  },
  {
   "cell_type": "code",
   "execution_count": null,
   "metadata": {
    "slideshow": {
     "slide_type": "slide"
    }
   },
   "outputs": [],
   "source": [
    "# Get a reprojected bounding box\n",
    "fire_reproj = \n",
    "# Clip the data\n",
    "modis_clip = \n",
    "\n",
    "modis_clip"
   ]
  },
  {
   "cell_type": "markdown",
   "metadata": {
    "slideshow": {
     "slide_type": "slide"
    }
   },
   "source": [
    "####  Speed Tests For Clipping Data\n",
    "\n",
    "For those of you that want to see we tested two approaches  here and  \n",
    "did find that repojecting using the `crs=` parameter is much slower  \n",
    "and more memory intensive than the approach above.\n",
    "\n",
    "For your homework either approach is ok!"
   ]
  },
  {
   "cell_type": "code",
   "execution_count": null,
   "metadata": {
    "slideshow": {
     "slide_type": "subslide"
    }
   },
   "outputs": [],
   "source": [
    "%%timeit\n",
    "crop_bound_box = [box(*fire_boundary.total_bounds)]\n",
    "\n",
    "# Reproject using the crs= parameter\n",
    "modis_clip = (\n",
    "    rxr.open_rasterio(\n",
    "        modis_pre_path,\n",
    "        masked=True,\n",
    "        variable=desired_bands)\n",
    "    .rio.clip(\n",
    "        crop_bound_box,\n",
    "        crs=fire_boundary.crs,\n",
    "        from_disk=True))"
   ]
  },
  {
   "cell_type": "code",
   "execution_count": null,
   "metadata": {
    "slideshow": {
     "slide_type": "subslide"
    }
   },
   "outputs": [],
   "source": [
    "%%timeit\n",
    "# Reproject the boundary\n",
    "fire_reproj = fire_boundary.to_crs(modis_bands.rio.crs).total_bounds\n",
    "\n",
    "modis_bands_not_clipped = rxr.open_rasterio(\n",
    "    modis_pre_path,\n",
    "    masked=True,\n",
    "    variable=desired_bands)\n",
    "\n",
    "modis_clip = modis_bands.rio.clip_box(*fire_reproj).squeeze()"
   ]
  },
  {
   "cell_type": "markdown",
   "metadata": {
    "slideshow": {
     "slide_type": "slide"
    }
   },
   "source": [
    "##  Plot MODIS data\n",
    "\n",
    "For  RGB or CIR  plotting,  you may want to select only the bands\n",
    "needed for plotting"
   ]
  },
  {
   "cell_type": "code",
   "execution_count": null,
   "metadata": {
    "slideshow": {
     "slide_type": "subslide"
    }
   },
   "outputs": [],
   "source": [
    "# Select bands 1 and 2 and turn into array\n",
    "rgb_bands = ['sur_refl_b01_1',\n",
    "             'sur_refl_b03_1',\n",
    "             'sur_refl_b04_1']\n",
    "modis_rgb_xr = modis_clip[rgb_bands].to_array()\n",
    "modis_rgb_xr"
   ]
  },
  {
   "cell_type": "markdown",
   "metadata": {
    "slideshow": {
     "slide_type": "slide"
    }
   },
   "source": [
    "### Plot All MODIS Bands with EarthPy\n",
    "\n",
    "You are now ready to plot your data using earthpy. Notice below that the \n",
    "images look washed out and there are large negative values in the data. \n",
    "\n",
    "This might be a good time to consider cleaning up your data by addressing \n",
    "`nodata` values."
   ]
  },
  {
   "cell_type": "code",
   "execution_count": null,
   "metadata": {
    "slideshow": {
     "slide_type": "subslide"
    }
   },
   "outputs": [],
   "source": [
    "ep.plot_bands(modis_rgb_xr.values,\n",
    "              scale=False,\n",
    "              figsize=(10, 5),\n",
    "              title=rgb_bands)\n",
    "plt.show()"
   ]
  },
  {
   "cell_type": "markdown",
   "metadata": {
    "slideshow": {
     "slide_type": "slide"
    }
   },
   "source": [
    "### RGB Image of MODIS Data Using EarthPy\n",
    "\n",
    "Once you have your data cleaned up, you can plot an RGB image of your data \n",
    "to ensure that it looks correct!\n",
    "\n",
    "[This lesson will help you remember what bands to use.](https://www.earthdatascience.org/courses/use-data-open-source-python/multispectral-remote-sensing/intro-multispectral-data/)"
   ]
  },
  {
   "cell_type": "code",
   "execution_count": null,
   "metadata": {
    "slideshow": {
     "slide_type": "subslide"
    }
   },
   "outputs": [],
   "source": [
    "def clean_array_plot(xr_obj):\n",
    "    \"\"\"\n",
    "    Take an  xarray object and replace null values with a mask for plotting\n",
    "\n",
    "    Parameters\n",
    "    ----------\n",
    "    xr_obj : xarray object\n",
    "\n",
    "    Returns\n",
    "    -------\n",
    "    A masked numpy array \n",
    "\n",
    "    \"\"\"\n",
    "\n",
    "    return "
   ]
  },
  {
   "cell_type": "code",
   "execution_count": null,
   "metadata": {
    "slideshow": {
     "slide_type": "subslide"
    }
   },
   "outputs": [],
   "source": [
    "modis_rgb_clean = clean_array_plot(modis_rgb_xr)\n",
    "\n",
    "# Plot MODIS RGB image -Note that this looks weird only because\n",
    "# the  data  are clipped to such  a \"small\" extent\n",
    "ep.plot_rgb(modis_rgb_clean,\n",
    "            rgb=[0, 1, 2],\n",
    "            title='RGB Image of MODIS Data',\n",
    "            figsize=(7, 7))\n",
    "\n",
    "plt.show()"
   ]
  },
  {
   "cell_type": "code",
   "execution_count": null,
   "metadata": {
    "slideshow": {
     "slide_type": "slide"
    }
   },
   "outputs": [],
   "source": [
    "modis_rgb_unclipped = modis_bands_not_clipped[rgb_bands].to_array().squeeze()\n",
    "modis_rgb_unclipped`"
   ]
  },
  {
   "cell_type": "code",
   "execution_count": null,
   "metadata": {
    "slideshow": {
     "slide_type": "subslide"
    }
   },
   "outputs": [],
   "source": [
    "# Plot unclipped data - RGB (just a demo)\n",
    "modis_rgb_clean_not_clipped = clean_array_plot(modis_rgb_unclipped)\n",
    "\n",
    "# Plot MODIS RGB image -Note that this looks weird only because\n",
    "# the data are clipped to such a \"small\" extent\n",
    "ep.plot_rgb(modis_rgb_clean_not_clipped,\n",
    "            rgb=[0, 1, 2],\n",
    "            title='RGB Image of MODIS Data',\n",
    "            figsize=(7, 7))\n",
    "\n",
    "plt.show()"
   ]
  },
  {
   "cell_type": "markdown",
   "metadata": {
    "slideshow": {
     "slide_type": "slide"
    }
   },
   "source": [
    "##  Function  To  Open  and Clean  MODIS Data\n",
    "Above we walked through the specific workflow for using MODIS data.\n",
    "You can however use the same function that you used last week \n",
    "to process Landsat and NAIP data for MODIS.\n",
    "\n",
    "The difference is now you  an  add the v ariable  parameter\n",
    "to include the list of bands that you wish to grab from the\n",
    "data."
   ]
  },
  {
   "cell_type": "code",
   "execution_count": null,
   "metadata": {
    "slideshow": {
     "slide_type": "slide"
    }
   },
   "outputs": [],
   "source": [
    "# Function in your homework assignment\n",
    "def open_clean_bands(band_path,\n",
    "                     crop_bound,\n",
    "                     valid_range=None,\n",
    "                     variable=None):\n",
    "    \"\"\"Open and clean a single landsat band.\n",
    "\n",
    "    Parameters\n",
    "    -----------\n",
    "    band_path : string \n",
    "        A path to the array to be opened.\n",
    "    crop_bound : geopandas GeoDataFrame\n",
    "        A geopandas dataframe to be used to crop the raster data using rioxarray clip().\n",
    "    valid_range:tuple (optional)\n",
    "        A tuple of min and max range of values for the data. Default = None.\n",
    "    variable : List\n",
    "        A list of variables to be opened from the raster.\n",
    "\n",
    "    Returns\n",
    "    -----------\n",
    "    band : xarray DataArray\n",
    "        Cropped xarray DataArray\n",
    "\n",
    "    \"\"\"\n",
    "\n",
    "    crop_bound_box = [box(*crop_bound.bounds.loc[0])]\n",
    "\n",
    "    driver = get_dataset_driver(band_path)\n",
    "\n",
    "    if :\n",
    "        raise ValueError(\"OOPS I've encountered an HDF file  \"\n",
    "                         \"which may have subgroups, please be sure  \"\n",
    "                         \"to specify the variable=parameter so \"\n",
    "                         \"I can clip the data properly.\")\n",
    "\n",
    "    try:\n",
    "        band = (rxr.open_rasterio(\n",
    "                    band_path,\n",
    "                    masked=True,\n",
    "                    variable=variable)\n",
    "                .rio.clip(\n",
    "                    crop_bound_box,\n",
    "                    crs=crop_bound.crs,\n",
    "                    all_touched=True,\n",
    "                    from_disk=True)\n",
    "                .squeeze())\n",
    "    except:\n",
    "        raise ValueError(\"Oops - I couldn't clip your data. \"\n",
    "                         \"This may be due to a crs error.\")\n",
    "\n",
    "    # Mask the data to the valid range if a valid range tuple is provided\n",
    "    if valid_range is not None:\n",
    "        mask = ((band < valid_range[0]) | (band > valid_range[1]))\n",
    "        band = band.where(~xr.where(mask, True, False))\n",
    "\n",
    "    return band"
   ]
  },
  {
   "cell_type": "code",
   "execution_count": null,
   "metadata": {
    "slideshow": {
     "slide_type": "slide"
    }
   },
   "outputs": [],
   "source": [
    "# # If you dont specify variables, this function will fail to clip the data\n",
    "try:\n",
    "    open_clean_bands(modis_pre_path,\n",
    "                     crop_bound=fire_boundary)\n",
    "except Exception as exception:\n",
    "    print(exception)"
   ]
  },
  {
   "cell_type": "markdown",
   "metadata": {
    "slideshow": {
     "slide_type": "subslide"
    }
   },
   "source": [
    "Below, we use the bands object to subset the data. "
   ]
  },
  {
   "cell_type": "code",
   "execution_count": null,
   "metadata": {
    "scrolled": true,
    "slideshow": {
     "slide_type": "subslide"
    }
   },
   "outputs": [],
   "source": [
    "cleaned_MODIS_data = open_clean_bands(modis_pre_path,\n",
    "                                      crop_bound=fire_boundary,\n",
    "                                      variable=desired_bands)\n",
    "cleaned_MODIS_data"
   ]
  },
  {
   "cell_type": "markdown",
   "metadata": {
    "slideshow": {
     "slide_type": "subslide"
    }
   },
   "source": [
    "Note - it's ok if the plot below looks funky.\n",
    "It represents very few pixels and pre-fire data does\n",
    "not have a lot of variation in the pixels."
   ]
  },
  {
   "cell_type": "code",
   "execution_count": null,
   "metadata": {
    "slideshow": {
     "slide_type": "slide"
    }
   },
   "outputs": [],
   "source": [
    "# Plot unclipped data - RGB\n",
    "modis_rgb = cleaned_MODIS_data[rgb_bands].to_array().squeeze()\n",
    "modis_rgb_plot = clean_array_plot(modis_rgb)\n",
    "\n",
    "# Plot MODIS RGB image - Note that this looks pixellated\n",
    "# The data are clipped to a very \"small\" extent relative to the resolution\n",
    "ep.plot_rgb(modis_rgb_plot,\n",
    "            rgb=[0, 1, 2],\n",
    "            title='RGB Image of MODIS Data',\n",
    "            figsize=(7, 7))\n",
    "\n",
    "plt.show()"
   ]
  },
  {
   "cell_type": "code",
   "execution_count": null,
   "metadata": {
    "slideshow": {
     "slide_type": "subslide"
    }
   },
   "outputs": [],
   "source": [
    "ep.plot_bands(modis_rgb_plot)\n",
    "plt.show()"
   ]
  }
 ],
 "metadata": {
  "celltoolbar": "Slideshow",
  "kernelspec": {
   "display_name": "Python 3 (ipykernel)",
   "language": "python",
   "name": "python3"
  },
  "language_info": {
   "codemirror_mode": {
    "name": "ipython",
    "version": 3
   },
   "file_extension": ".py",
   "mimetype": "text/x-python",
   "name": "python",
   "nbconvert_exporter": "python",
   "pygments_lexer": "ipython3",
   "version": "3.8.12"
  },
  "toc": {
   "base_numbering": 1,
   "nav_menu": {},
   "number_sections": true,
   "sideBar": false,
   "skip_h1_title": true,
   "title_cell": "Table of Contents",
   "title_sidebar": "Contents",
   "toc_cell": false,
   "toc_position": {
    "height": "46.8167px",
    "left": "1776px",
    "top": "25.1333px",
    "width": "158.433px"
   },
   "toc_section_display": false,
   "toc_window_display": true
  },
  "varInspector": {
   "cols": {
    "lenName": 16,
    "lenType": 16,
    "lenVar": 40
   },
   "kernels_config": {
    "python": {
     "delete_cmd_postfix": "",
     "delete_cmd_prefix": "del ",
     "library": "var_list.py",
     "varRefreshCmd": "print(var_dic_list())"
    },
    "r": {
     "delete_cmd_postfix": ") ",
     "delete_cmd_prefix": "rm(",
     "library": "var_list.r",
     "varRefreshCmd": "cat(var_dic_list()) "
    }
   },
   "types_to_exclude": [
    "module",
    "function",
    "builtin_function_or_method",
    "instance",
    "_Feature"
   ],
   "window_display": false
  }
 },
 "nbformat": 4,
 "nbformat_minor": 2
}
